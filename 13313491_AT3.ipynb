{
 "nbformat": 4,
 "nbformat_minor": 2,
 "metadata": {
  "language_info": {
   "name": "python",
   "codemirror_mode": {
    "name": "ipython",
    "version": 3
   }
  },
  "orig_nbformat": 2,
  "file_extension": ".py",
  "mimetype": "text/x-python",
  "name": "python",
  "npconvert_exporter": "python",
  "pygments_lexer": "ipython3",
  "version": 3
 },
 "cells": [
  {
   "cell_type": "code",
   "execution_count": 1,
   "metadata": {},
   "outputs": [],
   "source": [
    "# Required packages\n",
    "\n",
    "import pandas as pd\n",
    "import numpy as np\n",
    "import matplotlib.pyplot as plt\n",
    "import seaborn as sns\n",
    "import re\n",
    "\n",
    "import warnings\n",
    "warnings.filterwarnings('ignore')\n",
    "\n",
    "import sklearn\n",
    "from sklearn.decomposition import TruncatedSVD\n",
    "from sklearn.cluster import KMeans\n",
    "from sklearn.pipeline import make_pipeline\n",
    "from sklearn.feature_extraction.text import TfidfVectorizer\n",
    "from sklearn.feature_extraction.text import TfidfVectorizer\n",
    "from sklearn.manifold import TSNE\n",
    "\n",
    "import nltk\n",
    "from nltk.corpus import stopwords\n",
    "\n",
    "import textblob \n",
    "from textblob import Word\n",
    "from textblob import TextBlob\n",
    "\n",
    "from scipy import stats\n",
    "from vaderSentiment.vaderSentiment import SentimentIntensityAnalyzer\n",
    "\n",
    "from wordcloud import WordCloud \n",
    "\n",
    "from collections import Counter\n",
    "\n",
    "import os, sys"
   ]
  },
  {
   "cell_type": "code",
   "execution_count": 2,
   "metadata": {},
   "outputs": [],
   "source": [
    "df = pd.read_excel('Data.xlsx', sheet_name='Consoilidated')"
   ]
  },
  {
   "cell_type": "code",
   "execution_count": 24,
   "metadata": {},
   "outputs": [],
   "source": [
    "# Ensure there is no AssertionError by running this cell before proceeding further.\n",
    "# Checks if columns in the csv are in expected order \n",
    "\n",
    "expected_cols = ['Person', 'Day', 'Date ', 'Sleep (hours)', 'Sleep (minutes)'\n",
    "                 , 'Minutes of sleep', 'Sleep Quality (1 Very Bad - 5 Very Good)'\n",
    "                 , 'How many times did you wake up during the night'\n",
    "                 , 'Wakeup Time (HH:MM)', 'Bedtime (HH:MM)(night before)'\n",
    "                 , 'Did you nap during the day (yes/ no)', 'Steps', 'KM'\n",
    "                 , 'Any physical activity not recorded by health app (yes/no) (such as swiming)'\n",
    "                 , 'Description of mood/experience during day. No word limit. Free text .'\n",
    "                 , 'Personal Expenses']\n",
    "\n",
    "provided_cols = list(df)\n",
    "\n",
    "if provided_cols != expected_cols:\n",
    "    raise ValueError('Expected data file column headers do not match with the provided data file column headers.')"
   ]
  },
  {
   "cell_type": "code",
   "execution_count": null,
   "metadata": {},
   "outputs": [],
   "source": []
  }
 ]
}